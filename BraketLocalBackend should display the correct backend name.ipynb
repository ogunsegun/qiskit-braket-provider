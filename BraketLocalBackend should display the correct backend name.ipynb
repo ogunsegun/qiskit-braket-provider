{
 "cells": [
  {
   "cell_type": "markdown",
   "id": "be4fbb26",
   "metadata": {},
   "source": [
    "Install the braket package by running **pip install amazon-braket-sdk** in your Python environment."
   ]
  },
  {
   "cell_type": "code",
   "execution_count": 1,
   "id": "5d34ca64",
   "metadata": {},
   "outputs": [
    {
     "name": "stdout",
     "output_type": "stream",
     "text": [
      "Note: you may need to restart the kernel to use updated packages.\n",
      "Requirement already satisfied: amazon-braket-sdk in c:\\users\\pi\\anaconda3\\envs\\qiskit\\lib\\site-packages (1.38.3)\n",
      "Requirement already satisfied: amazon-braket-schemas>=1.14.0 in c:\\users\\pi\\anaconda3\\envs\\qiskit\\lib\\site-packages (from amazon-braket-sdk) (1.17.0)\n",
      "Requirement already satisfied: amazon-braket-default-simulator>=1.11.0 in c:\\users\\pi\\anaconda3\\envs\\qiskit\\lib\\site-packages (from amazon-braket-sdk) (1.14.0.post0)\n",
      "Requirement already satisfied: oqpy~=0.1.1 in c:\\users\\pi\\anaconda3\\envs\\qiskit\\lib\\site-packages (from amazon-braket-sdk) (0.1.2)\n",
      "Requirement already satisfied: setuptools in c:\\users\\pi\\anaconda3\\envs\\qiskit\\lib\\site-packages (from amazon-braket-sdk) (65.6.3)\n",
      "Requirement already satisfied: backoff in c:\\users\\pi\\anaconda3\\envs\\qiskit\\lib\\site-packages (from amazon-braket-sdk) (2.2.1)\n",
      "Requirement already satisfied: boltons in c:\\users\\pi\\anaconda3\\envs\\qiskit\\lib\\site-packages (from amazon-braket-sdk) (23.0.0)\n",
      "Requirement already satisfied: boto3>=1.22.3 in c:\\users\\pi\\anaconda3\\envs\\qiskit\\lib\\site-packages (from amazon-braket-sdk) (1.26.141)\n",
      "Requirement already satisfied: nest-asyncio in c:\\users\\pi\\anaconda3\\envs\\qiskit\\lib\\site-packages (from amazon-braket-sdk) (1.5.6)\n",
      "Requirement already satisfied: networkx in c:\\users\\pi\\anaconda3\\envs\\qiskit\\lib\\site-packages (from amazon-braket-sdk) (2.8.8)\n",
      "Requirement already satisfied: numpy in c:\\users\\pi\\anaconda3\\envs\\qiskit\\lib\\site-packages (from amazon-braket-sdk) (1.23.5)\n",
      "Requirement already satisfied: openpulse in c:\\users\\pi\\anaconda3\\envs\\qiskit\\lib\\site-packages (from amazon-braket-sdk) (0.4.2)\n",
      "Requirement already satisfied: openqasm3 in c:\\users\\pi\\anaconda3\\envs\\qiskit\\lib\\site-packages (from amazon-braket-sdk) (0.4.0)\n",
      "Requirement already satisfied: sympy in c:\\users\\pi\\anaconda3\\envs\\qiskit\\lib\\site-packages (from amazon-braket-sdk) (1.11.1)\n",
      "Requirement already satisfied: opt-einsum in c:\\users\\pi\\anaconda3\\envs\\qiskit\\lib\\site-packages (from amazon-braket-default-simulator>=1.11.0->amazon-braket-sdk) (3.3.0)\n",
      "Requirement already satisfied: pydantic<2.0,>=1.9 in c:\\users\\pi\\anaconda3\\envs\\qiskit\\lib\\site-packages (from amazon-braket-default-simulator>=1.11.0->amazon-braket-sdk) (1.10.8)\n",
      "Requirement already satisfied: scipy in c:\\users\\pi\\anaconda3\\envs\\qiskit\\lib\\site-packages (from amazon-braket-default-simulator>=1.11.0->amazon-braket-sdk) (1.10.1)\n",
      "Requirement already satisfied: antlr4-python3-runtime==4.9.2 in c:\\users\\pi\\anaconda3\\envs\\qiskit\\lib\\site-packages (from amazon-braket-default-simulator>=1.11.0->amazon-braket-sdk) (4.9.2)\n",
      "Requirement already satisfied: botocore<1.30.0,>=1.29.141 in c:\\users\\pi\\anaconda3\\envs\\qiskit\\lib\\site-packages (from boto3>=1.22.3->amazon-braket-sdk) (1.29.141)\n",
      "Requirement already satisfied: jmespath<2.0.0,>=0.7.1 in c:\\users\\pi\\anaconda3\\envs\\qiskit\\lib\\site-packages (from boto3>=1.22.3->amazon-braket-sdk) (1.0.1)\n",
      "Requirement already satisfied: s3transfer<0.7.0,>=0.6.0 in c:\\users\\pi\\anaconda3\\envs\\qiskit\\lib\\site-packages (from boto3>=1.22.3->amazon-braket-sdk) (0.6.1)\n",
      "Requirement already satisfied: mypy-extensions>=0.2.0 in c:\\users\\pi\\anaconda3\\envs\\qiskit\\lib\\site-packages (from oqpy~=0.1.1->amazon-braket-sdk) (1.0.0)\n",
      "Requirement already satisfied: mpmath>=0.19 in c:\\users\\pi\\anaconda3\\envs\\qiskit\\lib\\site-packages (from sympy->amazon-braket-sdk) (1.3.0)\n",
      "Requirement already satisfied: python-dateutil<3.0.0,>=2.1 in c:\\users\\pi\\anaconda3\\envs\\qiskit\\lib\\site-packages (from botocore<1.30.0,>=1.29.141->boto3>=1.22.3->amazon-braket-sdk) (2.8.2)\n",
      "Requirement already satisfied: urllib3<1.27,>=1.25.4 in c:\\users\\pi\\anaconda3\\envs\\qiskit\\lib\\site-packages (from botocore<1.30.0,>=1.29.141->boto3>=1.22.3->amazon-braket-sdk) (1.26.15)\n",
      "Requirement already satisfied: typing-extensions>=4.2.0 in c:\\users\\pi\\anaconda3\\envs\\qiskit\\lib\\site-packages (from pydantic<2.0,>=1.9->amazon-braket-default-simulator>=1.11.0->amazon-braket-sdk) (4.4.0)\n",
      "Requirement already satisfied: six>=1.5 in c:\\users\\pi\\anaconda3\\envs\\qiskit\\lib\\site-packages (from python-dateutil<3.0.0,>=2.1->botocore<1.30.0,>=1.29.141->boto3>=1.22.3->amazon-braket-sdk) (1.16.0)\n"
     ]
    }
   ],
   "source": [
    "pip install amazon-braket-sdk"
   ]
  },
  {
   "cell_type": "code",
   "execution_count": 2,
   "id": "0f02828c",
   "metadata": {},
   "outputs": [],
   "source": [
    "from braket.aws import AwsDevice\n",
    "from braket.devices import LocalSimulator\n"
   ]
  },
  {
   "cell_type": "code",
   "execution_count": 3,
   "id": "6180926c",
   "metadata": {},
   "outputs": [
    {
     "name": "stdout",
     "output_type": "stream",
     "text": [
      "BraketBackend[StateVectorSimulator]\n"
     ]
    }
   ],
   "source": [
    "backend = LocalSimulator()\n",
    "backend_name = backend.name\n",
    "print(\"BraketBackend[\" + backend_name + \"]\")\n"
   ]
  }
 ],
 "metadata": {
  "kernelspec": {
   "display_name": "Python 3 (ipykernel)",
   "language": "python",
   "name": "python3"
  },
  "language_info": {
   "codemirror_mode": {
    "name": "ipython",
    "version": 3
   },
   "file_extension": ".py",
   "mimetype": "text/x-python",
   "name": "python",
   "nbconvert_exporter": "python",
   "pygments_lexer": "ipython3",
   "version": "3.11.2"
  }
 },
 "nbformat": 4,
 "nbformat_minor": 5
}
